{
  "nbformat": 4,
  "nbformat_minor": 0,
  "metadata": {
    "colab": {
      "name": "DogsVsCatsClassifierUsingTransferLearning.ipynb",
      "version": "0.3.2",
      "provenance": [],
      "collapsed_sections": []
    },
    "kernelspec": {
      "name": "python3",
      "display_name": "Python 3"
    },
    "accelerator": "GPU"
  },
  "cells": [
    {
      "metadata": {
        "id": "FjaIDFe6rii5",
        "colab_type": "code",
        "outputId": "9416449f-5f36-436b-cb0d-0734f5331137",
        "colab": {
          "base_uri": "https://localhost:8080/",
          "height": 34
        }
      },
      "cell_type": "code",
      "source": [
        "import tensorflow as tf\n",
        "tf.test.gpu_device_name()"
      ],
      "execution_count": 1,
      "outputs": [
        {
          "output_type": "execute_result",
          "data": {
            "text/plain": [
              "'/device:GPU:0'"
            ]
          },
          "metadata": {
            "tags": []
          },
          "execution_count": 1
        }
      ]
    },
    {
      "metadata": {
        "id": "BZaOTyLx8omi",
        "colab_type": "code",
        "outputId": "f7463e2a-3e40-4abd-a833-d9852c512dac",
        "colab": {
          "base_uri": "https://localhost:8080/",
          "height": 34
        }
      },
      "cell_type": "code",
      "source": [
        "# Load the Drive helper and mount\n",
        "from google.colab import drive\n",
        "\n",
        "# This will prompt for authorization.\n",
        "drive.mount('/content/drive')"
      ],
      "execution_count": 2,
      "outputs": [
        {
          "output_type": "stream",
          "text": [
            "Drive already mounted at /content/drive; to attempt to forcibly remount, call drive.mount(\"/content/drive\", force_remount=True).\n"
          ],
          "name": "stdout"
        }
      ]
    },
    {
      "metadata": {
        "id": "dnbgtFMTxRZF",
        "colab_type": "code",
        "outputId": "9093e1c6-e67e-41f8-f92f-0e205b3594cd",
        "colab": {
          "base_uri": "https://localhost:8080/",
          "height": 632
        }
      },
      "cell_type": "code",
      "source": [
        "!ls \"/content/drive/My Drive\""
      ],
      "execution_count": 3,
      "outputs": [
        {
          "output_type": "stream",
          "text": [
            "'Aditya_TAMU_MSCS (1).pdf'\n",
            " Aditya_TAMU_MSCS.pdf\n",
            " Aditya_TAMU_Resume.pdf\n",
            " AdityaTempTimeSheet.gsheet\n",
            " AI_Final_report.pdf\n",
            "'AI Project'\n",
            " best_model.pth.tar\n",
            " Books\n",
            " cats_and_dogs_small\n",
            "'Colab Notebooks'\n",
            " deep-person-reid.zip\n",
            "'Dennis L. Kasper_ Anthony S. Fauci_ Stephen L. Hauser_ Dan L. Longo_ J. Larry Jameson_ Joseph Loscalzo - Harrison’s Principles of Internal Medicine, Twentieth Edition (Vol.1 & Vol.2) (2018, McGraw-Hill Education _ .pdf'\n",
            "'Download Folder Sept 2018'\n",
            " epilight_cpp_new.pdf\n",
            "'feature_test_gallery (1).mat'\n",
            "'feature_test_gallery (2).mat'\n",
            " feature_test_gallery.mat\n",
            "'feature_test_query (1).mat'\n",
            "'feature_test_query (2).mat'\n",
            " feature_test_query.mat\n",
            " G_10.pkl\n",
            " IMG_20180817_122408.jpg\n",
            " IMG_20180817_122409.jpg\n",
            " interview-preparation-best-100-ashay-raut.pdf\n",
            " MLOnAWS.pem\n",
            " MLOnAWS.ppk\n",
            "'P&ID Basic'\n",
            " Practice.gdoc\n",
            " Rent\n",
            " SSN.pdf\n",
            "'TAMU Study'\n",
            "'Tuition TAMU'\n",
            " Untitled0.ipynb\n",
            "'US VISA Docs'\n",
            "'Weekly time sheet.gsheet'\n"
          ],
          "name": "stdout"
        }
      ]
    },
    {
      "metadata": {
        "id": "0qPizU5dxfu_",
        "colab_type": "code",
        "outputId": "f3054556-d298-4ac3-ff49-cb5c1a2b4a10",
        "colab": {
          "base_uri": "https://localhost:8080/",
          "height": 34
        }
      },
      "cell_type": "code",
      "source": [
        "!pwd"
      ],
      "execution_count": 4,
      "outputs": [
        {
          "output_type": "stream",
          "text": [
            "/content\n"
          ],
          "name": "stdout"
        }
      ]
    },
    {
      "metadata": {
        "id": "20vOmZGaytwR",
        "colab_type": "code",
        "colab": {}
      },
      "cell_type": "code",
      "source": [
        "# Import the files for training/testing\n",
        "\n",
        "import os, shutil\n",
        "\n",
        "base_dir = '/content/drive/My Drive/cats_and_dogs_small'\n",
        "train_dir = os.path.join(base_dir, 'train')\n",
        "validation_dir = os.path.join(base_dir, 'validation')\n",
        "test_dir = os.path.join(base_dir, 'test')\n",
        "\n",
        "\n",
        "train_cats_dir = os.path.join(train_dir, 'cats')\n",
        "train_dogs_dir = os.path.join(train_dir, 'dogs')\n",
        "\n",
        "validation_cats_dir = os.path.join(validation_dir, 'cats')\n",
        "validation_dogs_dir = os.path.join(validation_dir, 'dogs')\n",
        "\n",
        "test_cats_dir = os.path.join(test_dir, 'cats')\n",
        "test_dogs_dir = os.path.join(test_dir, 'dogs')\n"
      ],
      "execution_count": 0,
      "outputs": []
    },
    {
      "metadata": {
        "id": "niDE9E9l4HbN",
        "colab_type": "code",
        "outputId": "b6c62d7b-05b1-40b9-b0d3-f4b8918df950",
        "colab": {
          "base_uri": "https://localhost:8080/",
          "height": 119
        }
      },
      "cell_type": "code",
      "source": [
        "# Confirming the sets\n",
        "\n",
        "print('total training cat images:', len(os.listdir(train_cats_dir)))\n",
        "print('total training dog images:', len(os.listdir(train_dogs_dir)))\n",
        "print('total validation cat images:', len(os.listdir(validation_cats_dir)))\n",
        "print('total validation dog images:', len(os.listdir(validation_dogs_dir)))\n",
        "print('total test cat images:', len(os.listdir(test_cats_dir)))\n",
        "print('total test dog images:', len(os.listdir(test_dogs_dir)))\n"
      ],
      "execution_count": 6,
      "outputs": [
        {
          "output_type": "stream",
          "text": [
            "total training cat images: 1000\n",
            "total training dog images: 1000\n",
            "total validation cat images: 500\n",
            "total validation dog images: 500\n",
            "total test cat images: 500\n",
            "total test dog images: 500\n"
          ],
          "name": "stdout"
        }
      ]
    },
    {
      "metadata": {
        "id": "DArcjg2AQxx9",
        "colab_type": "code",
        "colab": {
          "base_uri": "https://localhost:8080/",
          "height": 139
        },
        "outputId": "445fe377-2723-41dc-bdf8-005fed422ba0"
      },
      "cell_type": "code",
      "source": [
        "#  Instantiating the VGG16 convolutional base\n",
        "from keras.applications import VGG16\n",
        "\n",
        "conv_base = VGG16(weights='imagenet',\n",
        "                  include_top=False,\n",
        "                  input_shape=(150, 150, 3))"
      ],
      "execution_count": 7,
      "outputs": [
        {
          "output_type": "stream",
          "text": [
            "WARNING:tensorflow:From /usr/local/lib/python3.6/dist-packages/tensorflow/python/framework/op_def_library.py:263: colocate_with (from tensorflow.python.framework.ops) is deprecated and will be removed in a future version.\n",
            "Instructions for updating:\n",
            "Colocations handled automatically by placer.\n"
          ],
          "name": "stdout"
        },
        {
          "output_type": "stream",
          "text": [
            "Using TensorFlow backend.\n"
          ],
          "name": "stderr"
        },
        {
          "output_type": "stream",
          "text": [
            "Downloading data from https://github.com/fchollet/deep-learning-models/releases/download/v0.1/vgg16_weights_tf_dim_ordering_tf_kernels_notop.h5\n",
            "58892288/58889256 [==============================] - 1s 0us/step\n"
          ],
          "name": "stdout"
        }
      ]
    },
    {
      "metadata": {
        "id": "OfpQIpnqQ7J_",
        "colab_type": "code",
        "colab": {
          "base_uri": "https://localhost:8080/",
          "height": 782
        },
        "outputId": "e7cd7883-7c34-4625-8049-f9cd46b904d2"
      },
      "cell_type": "code",
      "source": [
        "conv_base.summary()"
      ],
      "execution_count": 8,
      "outputs": [
        {
          "output_type": "stream",
          "text": [
            "_________________________________________________________________\n",
            "Layer (type)                 Output Shape              Param #   \n",
            "=================================================================\n",
            "input_1 (InputLayer)         (None, 150, 150, 3)       0         \n",
            "_________________________________________________________________\n",
            "block1_conv1 (Conv2D)        (None, 150, 150, 64)      1792      \n",
            "_________________________________________________________________\n",
            "block1_conv2 (Conv2D)        (None, 150, 150, 64)      36928     \n",
            "_________________________________________________________________\n",
            "block1_pool (MaxPooling2D)   (None, 75, 75, 64)        0         \n",
            "_________________________________________________________________\n",
            "block2_conv1 (Conv2D)        (None, 75, 75, 128)       73856     \n",
            "_________________________________________________________________\n",
            "block2_conv2 (Conv2D)        (None, 75, 75, 128)       147584    \n",
            "_________________________________________________________________\n",
            "block2_pool (MaxPooling2D)   (None, 37, 37, 128)       0         \n",
            "_________________________________________________________________\n",
            "block3_conv1 (Conv2D)        (None, 37, 37, 256)       295168    \n",
            "_________________________________________________________________\n",
            "block3_conv2 (Conv2D)        (None, 37, 37, 256)       590080    \n",
            "_________________________________________________________________\n",
            "block3_conv3 (Conv2D)        (None, 37, 37, 256)       590080    \n",
            "_________________________________________________________________\n",
            "block3_pool (MaxPooling2D)   (None, 18, 18, 256)       0         \n",
            "_________________________________________________________________\n",
            "block4_conv1 (Conv2D)        (None, 18, 18, 512)       1180160   \n",
            "_________________________________________________________________\n",
            "block4_conv2 (Conv2D)        (None, 18, 18, 512)       2359808   \n",
            "_________________________________________________________________\n",
            "block4_conv3 (Conv2D)        (None, 18, 18, 512)       2359808   \n",
            "_________________________________________________________________\n",
            "block4_pool (MaxPooling2D)   (None, 9, 9, 512)         0         \n",
            "_________________________________________________________________\n",
            "block5_conv1 (Conv2D)        (None, 9, 9, 512)         2359808   \n",
            "_________________________________________________________________\n",
            "block5_conv2 (Conv2D)        (None, 9, 9, 512)         2359808   \n",
            "_________________________________________________________________\n",
            "block5_conv3 (Conv2D)        (None, 9, 9, 512)         2359808   \n",
            "_________________________________________________________________\n",
            "block5_pool (MaxPooling2D)   (None, 4, 4, 512)         0         \n",
            "=================================================================\n",
            "Total params: 14,714,688\n",
            "Trainable params: 14,714,688\n",
            "Non-trainable params: 0\n",
            "_________________________________________________________________\n"
          ],
          "name": "stdout"
        }
      ]
    },
    {
      "metadata": {
        "id": "f3zS7TAZ5C_r",
        "colab_type": "code",
        "colab": {}
      },
      "cell_type": "code",
      "source": [
        "# Defining the Neural Network Architecture\n",
        "# Adding a densely connected classifier on top of the convolutional base\n",
        "from keras import models\n",
        "from keras import layers\n",
        "\n",
        "model = models.Sequential()\n",
        "model.add(conv_base)\n",
        "model.add(layers.Flatten())\n",
        "model.add(layers.Dense(256, activation='relu'))\n",
        "model.add(layers.Dense(1, activation='sigmoid'))\n"
      ],
      "execution_count": 0,
      "outputs": []
    },
    {
      "metadata": {
        "id": "ks-bK7c_ROEs",
        "colab_type": "code",
        "colab": {
          "base_uri": "https://localhost:8080/",
          "height": 272
        },
        "outputId": "77c7e606-790f-4fe2-c3e5-f8827e366560"
      },
      "cell_type": "code",
      "source": [
        "# The new architecture of model\n",
        "model.summary()"
      ],
      "execution_count": 10,
      "outputs": [
        {
          "output_type": "stream",
          "text": [
            "_________________________________________________________________\n",
            "Layer (type)                 Output Shape              Param #   \n",
            "=================================================================\n",
            "vgg16 (Model)                (None, 4, 4, 512)         14714688  \n",
            "_________________________________________________________________\n",
            "flatten_1 (Flatten)          (None, 8192)              0         \n",
            "_________________________________________________________________\n",
            "dense_1 (Dense)              (None, 256)               2097408   \n",
            "_________________________________________________________________\n",
            "dense_2 (Dense)              (None, 1)                 257       \n",
            "=================================================================\n",
            "Total params: 16,812,353\n",
            "Trainable params: 16,812,353\n",
            "Non-trainable params: 0\n",
            "_________________________________________________________________\n"
          ],
          "name": "stdout"
        }
      ]
    },
    {
      "metadata": {
        "id": "EUP5-AS-RbF3",
        "colab_type": "code",
        "colab": {
          "base_uri": "https://localhost:8080/",
          "height": 34
        },
        "outputId": "e8b093d5-24e9-490e-8522-c7cd7d4d5776"
      },
      "cell_type": "code",
      "source": [
        "print('This is the number of trainable weights '\n",
        "         'before freezing the conv base:', len(model.trainable_weights))"
      ],
      "execution_count": 11,
      "outputs": [
        {
          "output_type": "stream",
          "text": [
            "This is the number of trainable weights before freezing the conv base: 30\n"
          ],
          "name": "stdout"
        }
      ]
    },
    {
      "metadata": {
        "id": "HoQw25dLRbgZ",
        "colab_type": "code",
        "colab": {
          "base_uri": "https://localhost:8080/",
          "height": 34
        },
        "outputId": "be37e64c-e520-4575-fa45-df6d3d41d674"
      },
      "cell_type": "code",
      "source": [
        "# Frizing the convolutional base\n",
        "conv_base.trainable = False\n",
        "print('This is the number of trainable weights '\n",
        "         'before freezing the conv base:', len(model.trainable_weights))"
      ],
      "execution_count": 14,
      "outputs": [
        {
          "output_type": "stream",
          "text": [
            "This is the number of trainable weights before freezing the conv base: 4\n"
          ],
          "name": "stdout"
        }
      ]
    },
    {
      "metadata": {
        "id": "7Lr4oy0ZRbz_",
        "colab_type": "code",
        "colab": {
          "base_uri": "https://localhost:8080/",
          "height": 1142
        },
        "outputId": "f8f7b03c-d71e-40eb-ebdd-51318b6b4ea1"
      },
      "cell_type": "code",
      "source": [
        "# Training the model end to end with a frozen convolutional base\n",
        "from keras.preprocessing.image import ImageDataGenerator\n",
        "from keras import optimizers\n",
        "\n",
        "train_datagen = ImageDataGenerator(\n",
        "      rescale=1./255,\n",
        "      rotation_range=40,\n",
        "      width_shift_range=0.2,\n",
        "      height_shift_range=0.2,\n",
        "      shear_range=0.2,\n",
        "      zoom_range=0.2,\n",
        "      horizontal_flip=True,\n",
        "      fill_mode='nearest')\n",
        "\n",
        "test_datagen = ImageDataGenerator(rescale=1./255)\n",
        "\n",
        "train_generator = train_datagen.flow_from_directory(\n",
        "        train_dir,\n",
        "        target_size=(150, 150),\n",
        "        batch_size=20,\n",
        "        class_mode='binary')\n",
        "\n",
        "validation_generator = test_datagen.flow_from_directory(\n",
        "        validation_dir,\n",
        "        target_size=(150, 150),\n",
        "        batch_size=20,\n",
        "        class_mode='binary')\n",
        "\n",
        "model.compile(loss='binary_crossentropy',\n",
        "              optimizer=optimizers.RMSprop(lr=2e-5),\n",
        "              metrics=['acc'])\n",
        "\n",
        "history = model.fit_generator(\n",
        "      train_generator,\n",
        "      steps_per_epoch=100,\n",
        "      epochs=30,\n",
        "      validation_data=validation_generator,\n",
        "      validation_steps=50)"
      ],
      "execution_count": 15,
      "outputs": [
        {
          "output_type": "stream",
          "text": [
            "Found 2000 images belonging to 2 classes.\n",
            "Found 1000 images belonging to 2 classes.\n",
            "WARNING:tensorflow:From /usr/local/lib/python3.6/dist-packages/tensorflow/python/ops/math_ops.py:3066: to_int32 (from tensorflow.python.ops.math_ops) is deprecated and will be removed in a future version.\n",
            "Instructions for updating:\n",
            "Use tf.cast instead.\n",
            "Epoch 1/30\n",
            "100/100 [==============================] - 29s 294ms/step - loss: 0.5976 - acc: 0.6930 - val_loss: 0.4584 - val_acc: 0.8140\n",
            "Epoch 2/30\n",
            "100/100 [==============================] - 26s 260ms/step - loss: 0.4854 - acc: 0.7790 - val_loss: 0.3949 - val_acc: 0.8220\n",
            "Epoch 3/30\n",
            "100/100 [==============================] - 26s 259ms/step - loss: 0.4242 - acc: 0.8095 - val_loss: 0.3363 - val_acc: 0.8600\n",
            "Epoch 4/30\n",
            "100/100 [==============================] - 26s 258ms/step - loss: 0.4055 - acc: 0.8180 - val_loss: 0.3100 - val_acc: 0.8760\n",
            "Epoch 5/30\n",
            "100/100 [==============================] - 26s 257ms/step - loss: 0.3905 - acc: 0.8250 - val_loss: 0.2992 - val_acc: 0.8700\n",
            "Epoch 6/30\n",
            "100/100 [==============================] - 26s 257ms/step - loss: 0.3729 - acc: 0.8420 - val_loss: 0.2837 - val_acc: 0.8850\n",
            "Epoch 7/30\n",
            "100/100 [==============================] - 25s 254ms/step - loss: 0.3593 - acc: 0.8345 - val_loss: 0.2803 - val_acc: 0.8900\n",
            "Epoch 8/30\n",
            "100/100 [==============================] - 25s 255ms/step - loss: 0.3475 - acc: 0.8505 - val_loss: 0.2721 - val_acc: 0.8920\n",
            "Epoch 9/30\n",
            "100/100 [==============================] - 26s 263ms/step - loss: 0.3325 - acc: 0.8565 - val_loss: 0.2640 - val_acc: 0.8940\n",
            "Epoch 10/30\n",
            "100/100 [==============================] - 26s 257ms/step - loss: 0.3333 - acc: 0.8540 - val_loss: 0.2616 - val_acc: 0.8980\n",
            "Epoch 11/30\n",
            "100/100 [==============================] - 25s 252ms/step - loss: 0.3341 - acc: 0.8555 - val_loss: 0.2577 - val_acc: 0.8940\n",
            "Epoch 12/30\n",
            "100/100 [==============================] - 26s 259ms/step - loss: 0.3248 - acc: 0.8505 - val_loss: 0.2626 - val_acc: 0.9000\n",
            "Epoch 13/30\n",
            "100/100 [==============================] - 25s 250ms/step - loss: 0.3167 - acc: 0.8700 - val_loss: 0.2520 - val_acc: 0.8990\n",
            "Epoch 14/30\n",
            "100/100 [==============================] - 25s 249ms/step - loss: 0.3148 - acc: 0.8650 - val_loss: 0.2496 - val_acc: 0.9010\n",
            "Epoch 15/30\n",
            "100/100 [==============================] - 25s 249ms/step - loss: 0.2990 - acc: 0.8715 - val_loss: 0.2489 - val_acc: 0.8980\n",
            "Epoch 16/30\n",
            "100/100 [==============================] - 25s 250ms/step - loss: 0.3000 - acc: 0.8655 - val_loss: 0.2610 - val_acc: 0.8870\n",
            "Epoch 17/30\n",
            "100/100 [==============================] - 25s 251ms/step - loss: 0.3039 - acc: 0.8675 - val_loss: 0.2552 - val_acc: 0.8920\n",
            "Epoch 18/30\n",
            "100/100 [==============================] - 25s 251ms/step - loss: 0.3098 - acc: 0.8685 - val_loss: 0.2491 - val_acc: 0.8980\n",
            "Epoch 19/30\n",
            "100/100 [==============================] - 25s 250ms/step - loss: 0.2975 - acc: 0.8715 - val_loss: 0.2506 - val_acc: 0.8920\n",
            "Epoch 20/30\n",
            "100/100 [==============================] - 25s 250ms/step - loss: 0.2987 - acc: 0.8600 - val_loss: 0.2520 - val_acc: 0.8900\n",
            "Epoch 21/30\n",
            "100/100 [==============================] - 25s 251ms/step - loss: 0.2982 - acc: 0.8700 - val_loss: 0.2410 - val_acc: 0.9000\n",
            "Epoch 22/30\n",
            "100/100 [==============================] - 27s 272ms/step - loss: 0.3008 - acc: 0.8725 - val_loss: 0.2536 - val_acc: 0.8890\n",
            "Epoch 23/30\n",
            "100/100 [==============================] - 27s 271ms/step - loss: 0.2993 - acc: 0.8650 - val_loss: 0.2409 - val_acc: 0.9060\n",
            "Epoch 24/30\n",
            "100/100 [==============================] - 26s 258ms/step - loss: 0.2917 - acc: 0.8765 - val_loss: 0.2404 - val_acc: 0.9040\n",
            "Epoch 25/30\n",
            "100/100 [==============================] - 25s 251ms/step - loss: 0.2954 - acc: 0.8710 - val_loss: 0.2418 - val_acc: 0.9050\n",
            "Epoch 26/30\n",
            "100/100 [==============================] - 25s 246ms/step - loss: 0.2843 - acc: 0.8765 - val_loss: 0.2395 - val_acc: 0.9060\n",
            "Epoch 27/30\n",
            "100/100 [==============================] - 25s 248ms/step - loss: 0.2802 - acc: 0.8870 - val_loss: 0.2595 - val_acc: 0.8960\n",
            "Epoch 28/30\n",
            "100/100 [==============================] - 25s 247ms/step - loss: 0.2892 - acc: 0.8750 - val_loss: 0.2442 - val_acc: 0.9020\n",
            "Epoch 29/30\n",
            "100/100 [==============================] - 25s 248ms/step - loss: 0.2870 - acc: 0.8810 - val_loss: 0.2369 - val_acc: 0.9070\n",
            "Epoch 30/30\n",
            "100/100 [==============================] - 25s 250ms/step - loss: 0.2759 - acc: 0.8810 - val_loss: 0.2472 - val_acc: 0.8970\n"
          ],
          "name": "stdout"
        }
      ]
    },
    {
      "metadata": {
        "id": "_IOefyXh8dfC",
        "colab_type": "code",
        "colab": {
          "base_uri": "https://localhost:8080/",
          "height": 707
        },
        "outputId": "a2131877-81ac-4780-8f69-54b16140dcd7"
      },
      "cell_type": "code",
      "source": [
        "# Plotting the graph\n",
        "import matplotlib.pyplot as plt\n",
        "\n",
        "acc = history.history['acc']\n",
        "val_acc = history.history['val_acc']\n",
        "loss = history.history['loss']\n",
        "val_loss = history.history['val_loss']\n",
        "\n",
        "epochs = range(1, len(acc) + 1)\n",
        "\n",
        "plt.plot(epochs, acc, 'bo', label='Training acc')\n",
        "plt.plot(epochs, val_acc, 'b', label='Validation acc')\n",
        "plt.title('Training and validation accuracy')\n",
        "plt.legend()\n",
        "\n",
        "plt.figure()\n",
        "\n",
        "plt.plot(epochs, loss, 'bo', label='Training loss')\n",
        "plt.plot(epochs, val_loss, 'b', label='Validation loss')\n",
        "plt.title('Training and validation loss')\n",
        "plt.legend()\n",
        "\n",
        "plt.show()"
      ],
      "execution_count": 16,
      "outputs": [
        {
          "output_type": "display_data",
          "data": {
            "image/png": "[encoded data removed]",
            "text/plain": [
              "<Figure size 576x396 with 1 Axes>"
            ]
          },
          "metadata": {
            "tags": []
          }
        },
        {
          "output_type": "display_data",
          "data": {
            "image/png": "[encoded data removed]",
            "text/plain": [
              "<Figure size 576x396 with 1 Axes>"
            ]
          },
          "metadata": {
            "tags": []
          }
        }
      ]
    },
    {
      "metadata": {
        "id": "3TDFzrSG8blC",
        "colab_type": "code",
        "colab": {}
      },
      "cell_type": "code",
      "source": [
        ""
      ],
      "execution_count": 0,
      "outputs": []
    },
    {
      "metadata": {
        "id": "48mRxZl65wbV",
        "colab_type": "code",
        "colab": {}
      },
      "cell_type": "code",
      "source": [
        "# Saving the model\n",
        "\n",
        "model.save('cats_and_dogs_small_TL.h5')"
      ],
      "execution_count": 0,
      "outputs": []
    },
    {
      "metadata": {
        "id": "cJPRdRCVKzt9",
        "colab_type": "code",
        "outputId": "be8600d6-1d44-4e4a-9cd8-947a1fbd4ceb",
        "colab": {
          "base_uri": "https://localhost:8080/",
          "height": 34
        }
      },
      "cell_type": "code",
      "source": [
        "# list of mertics that we saved\n",
        "model.metrics_names"
      ],
      "execution_count": 18,
      "outputs": [
        {
          "output_type": "execute_result",
          "data": {
            "text/plain": [
              "['loss', 'acc']"
            ]
          },
          "metadata": {
            "tags": []
          },
          "execution_count": 18
        }
      ]
    },
    {
      "metadata": {
        "id": "dfyHkxtvLmfG",
        "colab_type": "code",
        "outputId": "587ec0cc-e941-4eb8-a9dc-e0b11408de61",
        "colab": {
          "base_uri": "https://localhost:8080/",
          "height": 34
        }
      },
      "cell_type": "code",
      "source": [
        "# make prediction on unseen data now - test data\n",
        "\n",
        "test_generator = test_datagen.flow_from_directory(\n",
        "        test_dir,\n",
        "        target_size=(150, 150),\n",
        "        batch_size=32,\n",
        "        class_mode='binary')\n",
        "prediction = model.evaluate_generator(test_generator, steps=50)\n"
      ],
      "execution_count": 19,
      "outputs": [
        {
          "output_type": "stream",
          "text": [
            "Found 1000 images belonging to 2 classes.\n"
          ],
          "name": "stdout"
        }
      ]
    },
    {
      "metadata": {
        "id": "oR2bZvE0OZ1F",
        "colab_type": "code",
        "colab": {
          "base_uri": "https://localhost:8080/",
          "height": 34
        },
        "outputId": "6858cade-9f1e-411f-de52-3c27889067af"
      },
      "cell_type": "code",
      "source": [
        "# metrics on the test data\n",
        "prediction"
      ],
      "execution_count": 20,
      "outputs": [
        {
          "output_type": "execute_result",
          "data": {
            "text/plain": [
              "[0.258378937159698, 0.8908629441624365]"
            ]
          },
          "metadata": {
            "tags": []
          },
          "execution_count": 20
        }
      ]
    },
    {
      "metadata": {
        "id": "7AqK9hrBOmtJ",
        "colab_type": "code",
        "colab": {}
      },
      "cell_type": "code",
      "source": [
        "# Fine Tuning the model\n",
        "# Steps are:\n",
        "# 1. Add your custom network on top of an already-trained base network.\n",
        "# 2. Freeze the base network.\n",
        "# 3. Train the part you added.\n",
        "# 4. Unfreeze some layers in the base network.\n",
        "# 5. Jointly train both these layers and the part you added.\n",
        "\n",
        "# 1-3 already done\n",
        "\n",
        "# Freezing all layers up to a specific one\n",
        "conv_base.trainable = True\n",
        "\n",
        "set_trainable = False\n",
        "for layer in conv_base.layers:\n",
        "    if layer.name == 'block5_conv1':\n",
        "        set_trainable = True\n",
        "    if set_trainable:\n",
        "        layer.trainable = True\n",
        "    else:\n",
        "        layer.trainable = False"
      ],
      "execution_count": 0,
      "outputs": []
    },
    {
      "metadata": {
        "id": "fUDKx4lOPpBZ",
        "colab_type": "code",
        "colab": {
          "base_uri": "https://localhost:8080/",
          "height": 3417
        },
        "outputId": "0d37d726-d7b4-4c76-c66d-874e3701d255"
      },
      "cell_type": "code",
      "source": [
        "#  Fine-tuning the model\n",
        "\n",
        "model.compile(loss='binary_crossentropy',\n",
        "              optimizer=optimizers.RMSprop(lr=1e-5),\n",
        "              metrics=['acc'])\n",
        "\n",
        "history = model.fit_generator(\n",
        "      train_generator,\n",
        "      steps_per_epoch=100,\n",
        "      epochs=100,\n",
        "      validation_data=validation_generator,\n",
        "      validation_steps=50)\n"
      ],
      "execution_count": 22,
      "outputs": [
        {
          "output_type": "stream",
          "text": [
            "Epoch 1/100\n",
            "100/100 [==============================] - 29s 289ms/step - loss: 0.2950 - acc: 0.8635 - val_loss: 0.2103 - val_acc: 0.9090\n",
            "Epoch 2/100\n",
            "100/100 [==============================] - 26s 263ms/step - loss: 0.2630 - acc: 0.8795 - val_loss: 0.2095 - val_acc: 0.9250\n",
            "Epoch 3/100\n",
            "100/100 [==============================] - 26s 265ms/step - loss: 0.2300 - acc: 0.9065 - val_loss: 0.2103 - val_acc: 0.9210\n",
            "Epoch 4/100\n",
            "100/100 [==============================] - 26s 263ms/step - loss: 0.2233 - acc: 0.9100 - val_loss: 0.1857 - val_acc: 0.9310\n",
            "Epoch 5/100\n",
            "100/100 [==============================] - 26s 262ms/step - loss: 0.2125 - acc: 0.9070 - val_loss: 0.2063 - val_acc: 0.9200\n",
            "Epoch 6/100\n",
            "100/100 [==============================] - 26s 262ms/step - loss: 0.1965 - acc: 0.9190 - val_loss: 0.2088 - val_acc: 0.9230\n",
            "Epoch 7/100\n",
            "100/100 [==============================] - 26s 262ms/step - loss: 0.1788 - acc: 0.9270 - val_loss: 0.1725 - val_acc: 0.9310\n",
            "Epoch 8/100\n",
            "100/100 [==============================] - 26s 261ms/step - loss: 0.2039 - acc: 0.9175 - val_loss: 0.1993 - val_acc: 0.9300\n",
            "Epoch 9/100\n",
            "100/100 [==============================] - 26s 261ms/step - loss: 0.1546 - acc: 0.9400 - val_loss: 0.1638 - val_acc: 0.9360\n",
            "Epoch 10/100\n",
            "100/100 [==============================] - 28s 277ms/step - loss: 0.1586 - acc: 0.9345 - val_loss: 0.1964 - val_acc: 0.9320\n",
            "Epoch 11/100\n",
            "100/100 [==============================] - 26s 259ms/step - loss: 0.1475 - acc: 0.9385 - val_loss: 0.1692 - val_acc: 0.9350\n",
            "Epoch 12/100\n",
            "100/100 [==============================] - 26s 258ms/step - loss: 0.1286 - acc: 0.9460 - val_loss: 0.1828 - val_acc: 0.9260\n",
            "Epoch 13/100\n",
            "100/100 [==============================] - 26s 255ms/step - loss: 0.1370 - acc: 0.9470 - val_loss: 0.1975 - val_acc: 0.9270\n",
            "Epoch 14/100\n",
            "100/100 [==============================] - 26s 257ms/step - loss: 0.1261 - acc: 0.9480 - val_loss: 0.1772 - val_acc: 0.9320\n",
            "Epoch 15/100\n",
            "100/100 [==============================] - 26s 258ms/step - loss: 0.1158 - acc: 0.9580 - val_loss: 0.1924 - val_acc: 0.9330\n",
            "Epoch 16/100\n",
            "100/100 [==============================] - 26s 257ms/step - loss: 0.1235 - acc: 0.9505 - val_loss: 0.2302 - val_acc: 0.9170\n",
            "Epoch 17/100\n",
            "100/100 [==============================] - 26s 257ms/step - loss: 0.1093 - acc: 0.9625 - val_loss: 0.1756 - val_acc: 0.9360\n",
            "Epoch 18/100\n",
            "100/100 [==============================] - 26s 259ms/step - loss: 0.1030 - acc: 0.9570 - val_loss: 0.2389 - val_acc: 0.9220\n",
            "Epoch 19/100\n",
            "100/100 [==============================] - 27s 268ms/step - loss: 0.0911 - acc: 0.9675 - val_loss: 0.2094 - val_acc: 0.9230\n",
            "Epoch 20/100\n",
            "100/100 [==============================] - 27s 267ms/step - loss: 0.0989 - acc: 0.9615 - val_loss: 0.2341 - val_acc: 0.9330\n",
            "Epoch 21/100\n",
            "100/100 [==============================] - 27s 266ms/step - loss: 0.0949 - acc: 0.9630 - val_loss: 0.1769 - val_acc: 0.9340\n",
            "Epoch 22/100\n",
            "100/100 [==============================] - 28s 277ms/step - loss: 0.0996 - acc: 0.9585 - val_loss: 0.1617 - val_acc: 0.9400\n",
            "Epoch 23/100\n",
            "100/100 [==============================] - 27s 268ms/step - loss: 0.0806 - acc: 0.9650 - val_loss: 0.2088 - val_acc: 0.9410\n",
            "Epoch 24/100\n",
            "100/100 [==============================] - 26s 257ms/step - loss: 0.0973 - acc: 0.9645 - val_loss: 0.1924 - val_acc: 0.9300\n",
            "Epoch 25/100\n",
            "100/100 [==============================] - 26s 261ms/step - loss: 0.0850 - acc: 0.9620 - val_loss: 0.2206 - val_acc: 0.9330\n",
            "Epoch 26/100\n",
            "100/100 [==============================] - 26s 264ms/step - loss: 0.0815 - acc: 0.9665 - val_loss: 0.2114 - val_acc: 0.9200\n",
            "Epoch 27/100\n",
            "100/100 [==============================] - 27s 272ms/step - loss: 0.0760 - acc: 0.9715 - val_loss: 0.2177 - val_acc: 0.9350\n",
            "Epoch 28/100\n",
            "100/100 [==============================] - 27s 266ms/step - loss: 0.0701 - acc: 0.9775 - val_loss: 0.3023 - val_acc: 0.9190\n",
            "Epoch 29/100\n",
            "100/100 [==============================] - 26s 265ms/step - loss: 0.0672 - acc: 0.9710 - val_loss: 0.1676 - val_acc: 0.9480\n",
            "Epoch 30/100\n",
            "100/100 [==============================] - 26s 264ms/step - loss: 0.0664 - acc: 0.9790 - val_loss: 0.2200 - val_acc: 0.9410\n",
            "Epoch 31/100\n",
            "100/100 [==============================] - 27s 266ms/step - loss: 0.0595 - acc: 0.9770 - val_loss: 0.2087 - val_acc: 0.9420\n",
            "Epoch 32/100\n",
            "100/100 [==============================] - 26s 264ms/step - loss: 0.0478 - acc: 0.9820 - val_loss: 0.2272 - val_acc: 0.9350\n",
            "Epoch 33/100\n",
            "100/100 [==============================] - 27s 269ms/step - loss: 0.0654 - acc: 0.9765 - val_loss: 0.2052 - val_acc: 0.9320\n",
            "Epoch 34/100\n",
            "100/100 [==============================] - 27s 270ms/step - loss: 0.0702 - acc: 0.9740 - val_loss: 0.2377 - val_acc: 0.9350\n",
            "Epoch 35/100\n",
            "100/100 [==============================] - 27s 269ms/step - loss: 0.0589 - acc: 0.9785 - val_loss: 0.1889 - val_acc: 0.9450\n",
            "Epoch 36/100\n",
            "100/100 [==============================] - 26s 263ms/step - loss: 0.0604 - acc: 0.9785 - val_loss: 0.2092 - val_acc: 0.9390\n",
            "Epoch 37/100\n",
            "100/100 [==============================] - 26s 262ms/step - loss: 0.0621 - acc: 0.9790 - val_loss: 0.2138 - val_acc: 0.9410\n",
            "Epoch 38/100\n",
            "100/100 [==============================] - 26s 262ms/step - loss: 0.0520 - acc: 0.9795 - val_loss: 0.2433 - val_acc: 0.9270\n",
            "Epoch 39/100\n",
            "100/100 [==============================] - 26s 263ms/step - loss: 0.0494 - acc: 0.9810 - val_loss: 0.2130 - val_acc: 0.9410\n",
            "Epoch 40/100\n",
            "100/100 [==============================] - 26s 264ms/step - loss: 0.0551 - acc: 0.9795 - val_loss: 0.2480 - val_acc: 0.9280\n",
            "Epoch 41/100\n",
            "100/100 [==============================] - 26s 264ms/step - loss: 0.0421 - acc: 0.9835 - val_loss: 0.2546 - val_acc: 0.9390\n",
            "Epoch 42/100\n",
            "100/100 [==============================] - 27s 266ms/step - loss: 0.0473 - acc: 0.9820 - val_loss: 0.1875 - val_acc: 0.9450\n",
            "Epoch 43/100\n",
            "100/100 [==============================] - 26s 265ms/step - loss: 0.0407 - acc: 0.9835 - val_loss: 0.2744 - val_acc: 0.9290\n",
            "Epoch 44/100\n",
            "100/100 [==============================] - 27s 265ms/step - loss: 0.0435 - acc: 0.9855 - val_loss: 0.2143 - val_acc: 0.9420\n",
            "Epoch 45/100\n",
            "100/100 [==============================] - 28s 282ms/step - loss: 0.0466 - acc: 0.9875 - val_loss: 0.2443 - val_acc: 0.9360\n",
            "Epoch 46/100\n",
            "100/100 [==============================] - 27s 271ms/step - loss: 0.0401 - acc: 0.9835 - val_loss: 0.2468 - val_acc: 0.9380\n",
            "Epoch 47/100\n",
            "100/100 [==============================] - 27s 265ms/step - loss: 0.0459 - acc: 0.9820 - val_loss: 0.2610 - val_acc: 0.9340\n",
            "Epoch 48/100\n",
            "100/100 [==============================] - 27s 268ms/step - loss: 0.0380 - acc: 0.9875 - val_loss: 0.2373 - val_acc: 0.9310\n",
            "Epoch 49/100\n",
            "100/100 [==============================] - 26s 264ms/step - loss: 0.0457 - acc: 0.9825 - val_loss: 0.2311 - val_acc: 0.9450\n",
            "Epoch 50/100\n",
            "100/100 [==============================] - 26s 263ms/step - loss: 0.0514 - acc: 0.9825 - val_loss: 0.1945 - val_acc: 0.9500\n",
            "Epoch 51/100\n",
            "100/100 [==============================] - 26s 263ms/step - loss: 0.0437 - acc: 0.9835 - val_loss: 0.2256 - val_acc: 0.9440\n",
            "Epoch 52/100\n",
            "100/100 [==============================] - 26s 261ms/step - loss: 0.0373 - acc: 0.9910 - val_loss: 0.2263 - val_acc: 0.9460\n",
            "Epoch 53/100\n",
            "100/100 [==============================] - 26s 263ms/step - loss: 0.0457 - acc: 0.9815 - val_loss: 0.2731 - val_acc: 0.9340\n",
            "Epoch 54/100\n",
            "100/100 [==============================] - 26s 263ms/step - loss: 0.0313 - acc: 0.9875 - val_loss: 0.2665 - val_acc: 0.9310\n",
            "Epoch 55/100\n",
            "100/100 [==============================] - 27s 265ms/step - loss: 0.0324 - acc: 0.9905 - val_loss: 0.2888 - val_acc: 0.9380\n",
            "Epoch 56/100\n",
            "100/100 [==============================] - 27s 266ms/step - loss: 0.0286 - acc: 0.9915 - val_loss: 0.2295 - val_acc: 0.9370\n",
            "Epoch 57/100\n",
            "100/100 [==============================] - 28s 276ms/step - loss: 0.0259 - acc: 0.9890 - val_loss: 0.2317 - val_acc: 0.9410\n",
            "Epoch 58/100\n",
            "100/100 [==============================] - 27s 265ms/step - loss: 0.0419 - acc: 0.9835 - val_loss: 0.2714 - val_acc: 0.9310\n",
            "Epoch 59/100\n",
            "100/100 [==============================] - 26s 260ms/step - loss: 0.0347 - acc: 0.9870 - val_loss: 0.2330 - val_acc: 0.9430\n",
            "Epoch 60/100\n",
            "100/100 [==============================] - 26s 261ms/step - loss: 0.0326 - acc: 0.9870 - val_loss: 0.2326 - val_acc: 0.9300\n",
            "Epoch 61/100\n",
            "100/100 [==============================] - 26s 264ms/step - loss: 0.0296 - acc: 0.9905 - val_loss: 0.2543 - val_acc: 0.9350\n",
            "Epoch 62/100\n",
            "100/100 [==============================] - 27s 267ms/step - loss: 0.0304 - acc: 0.9915 - val_loss: 0.2491 - val_acc: 0.9450\n",
            "Epoch 63/100\n",
            "100/100 [==============================] - 26s 264ms/step - loss: 0.0276 - acc: 0.9915 - val_loss: 0.3361 - val_acc: 0.9250\n",
            "Epoch 64/100\n",
            "100/100 [==============================] - 27s 267ms/step - loss: 0.0332 - acc: 0.9880 - val_loss: 0.1911 - val_acc: 0.9520\n",
            "Epoch 65/100\n",
            "100/100 [==============================] - 26s 263ms/step - loss: 0.0439 - acc: 0.9850 - val_loss: 0.2453 - val_acc: 0.9360\n",
            "Epoch 66/100\n",
            "100/100 [==============================] - 26s 263ms/step - loss: 0.0321 - acc: 0.9910 - val_loss: 0.2338 - val_acc: 0.9440\n",
            "Epoch 67/100\n",
            "100/100 [==============================] - 27s 266ms/step - loss: 0.0229 - acc: 0.9940 - val_loss: 0.2547 - val_acc: 0.9390\n",
            "Epoch 68/100\n",
            "100/100 [==============================] - 27s 267ms/step - loss: 0.0326 - acc: 0.9905 - val_loss: 0.3109 - val_acc: 0.9320\n",
            "Epoch 69/100\n",
            "100/100 [==============================] - 28s 280ms/step - loss: 0.0357 - acc: 0.9860 - val_loss: 0.2598 - val_acc: 0.9400\n",
            "Epoch 70/100\n",
            "100/100 [==============================] - 26s 264ms/step - loss: 0.0165 - acc: 0.9945 - val_loss: 0.3782 - val_acc: 0.9190\n",
            "Epoch 71/100\n",
            "100/100 [==============================] - 26s 263ms/step - loss: 0.0355 - acc: 0.9880 - val_loss: 0.3895 - val_acc: 0.9220\n",
            "Epoch 72/100\n",
            "100/100 [==============================] - 26s 262ms/step - loss: 0.0216 - acc: 0.9900 - val_loss: 0.2344 - val_acc: 0.9410\n",
            "Epoch 73/100\n",
            "100/100 [==============================] - 26s 263ms/step - loss: 0.0259 - acc: 0.9920 - val_loss: 0.2392 - val_acc: 0.9410\n",
            "Epoch 74/100\n",
            "100/100 [==============================] - 26s 263ms/step - loss: 0.0292 - acc: 0.9900 - val_loss: 0.2567 - val_acc: 0.9360\n",
            "Epoch 75/100\n",
            "100/100 [==============================] - 26s 263ms/step - loss: 0.0232 - acc: 0.9915 - val_loss: 0.2399 - val_acc: 0.9460\n",
            "Epoch 76/100\n",
            "100/100 [==============================] - 26s 265ms/step - loss: 0.0215 - acc: 0.9940 - val_loss: 0.2662 - val_acc: 0.9350\n",
            "Epoch 77/100\n",
            "100/100 [==============================] - 26s 264ms/step - loss: 0.0238 - acc: 0.9930 - val_loss: 0.2192 - val_acc: 0.9440\n",
            "Epoch 78/100\n",
            "100/100 [==============================] - 26s 264ms/step - loss: 0.0193 - acc: 0.9930 - val_loss: 0.2825 - val_acc: 0.9400\n",
            "Epoch 79/100\n",
            "100/100 [==============================] - 26s 263ms/step - loss: 0.0217 - acc: 0.9915 - val_loss: 0.3006 - val_acc: 0.9320\n",
            "Epoch 80/100\n",
            "100/100 [==============================] - 28s 280ms/step - loss: 0.0272 - acc: 0.9910 - val_loss: 0.2352 - val_acc: 0.9470\n",
            "Epoch 81/100\n",
            "100/100 [==============================] - 27s 268ms/step - loss: 0.0245 - acc: 0.9915 - val_loss: 0.2308 - val_acc: 0.9470\n",
            "Epoch 82/100\n",
            "100/100 [==============================] - 26s 261ms/step - loss: 0.0239 - acc: 0.9915 - val_loss: 0.3203 - val_acc: 0.9260\n",
            "Epoch 83/100\n",
            "100/100 [==============================] - 26s 263ms/step - loss: 0.0247 - acc: 0.9920 - val_loss: 0.4515 - val_acc: 0.9190\n",
            "Epoch 84/100\n",
            "100/100 [==============================] - 26s 263ms/step - loss: 0.0183 - acc: 0.9950 - val_loss: 0.2336 - val_acc: 0.9430\n",
            "Epoch 85/100\n",
            "100/100 [==============================] - 26s 262ms/step - loss: 0.0189 - acc: 0.9935 - val_loss: 0.2883 - val_acc: 0.9430\n",
            "Epoch 86/100\n",
            "100/100 [==============================] - 26s 261ms/step - loss: 0.0170 - acc: 0.9930 - val_loss: 0.2728 - val_acc: 0.9390\n",
            "Epoch 87/100\n",
            "100/100 [==============================] - 26s 261ms/step - loss: 0.0249 - acc: 0.9935 - val_loss: 0.3234 - val_acc: 0.9250\n",
            "Epoch 88/100\n",
            "100/100 [==============================] - 26s 260ms/step - loss: 0.0243 - acc: 0.9935 - val_loss: 0.2312 - val_acc: 0.9440\n",
            "Epoch 89/100\n",
            "100/100 [==============================] - 26s 260ms/step - loss: 0.0248 - acc: 0.9940 - val_loss: 0.2672 - val_acc: 0.9440\n",
            "Epoch 90/100\n",
            "100/100 [==============================] - 26s 259ms/step - loss: 0.0266 - acc: 0.9900 - val_loss: 0.2784 - val_acc: 0.9420\n",
            "Epoch 91/100\n",
            "100/100 [==============================] - 26s 262ms/step - loss: 0.0134 - acc: 0.9955 - val_loss: 0.2462 - val_acc: 0.9440\n",
            "Epoch 92/100\n",
            "100/100 [==============================] - 29s 285ms/step - loss: 0.0183 - acc: 0.9935 - val_loss: 0.2600 - val_acc: 0.9460\n",
            "Epoch 93/100\n",
            "100/100 [==============================] - 26s 260ms/step - loss: 0.0185 - acc: 0.9950 - val_loss: 0.2783 - val_acc: 0.9460\n",
            "Epoch 94/100\n",
            "100/100 [==============================] - 27s 265ms/step - loss: 0.0208 - acc: 0.9910 - val_loss: 0.2273 - val_acc: 0.9460\n",
            "Epoch 95/100\n",
            "100/100 [==============================] - 26s 264ms/step - loss: 0.0203 - acc: 0.9930 - val_loss: 0.4350 - val_acc: 0.9280\n",
            "Epoch 96/100\n",
            "100/100 [==============================] - 27s 270ms/step - loss: 0.0240 - acc: 0.9910 - val_loss: 0.2998 - val_acc: 0.9330\n",
            "Epoch 97/100\n",
            "100/100 [==============================] - 27s 267ms/step - loss: 0.0162 - acc: 0.9920 - val_loss: 0.3198 - val_acc: 0.9390\n",
            "Epoch 98/100\n",
            "100/100 [==============================] - 26s 265ms/step - loss: 0.0248 - acc: 0.9930 - val_loss: 0.2526 - val_acc: 0.9520\n",
            "Epoch 99/100\n",
            "100/100 [==============================] - 27s 267ms/step - loss: 0.0179 - acc: 0.9945 - val_loss: 0.3377 - val_acc: 0.9350\n",
            "Epoch 100/100\n",
            "100/100 [==============================] - 26s 265ms/step - loss: 0.0197 - acc: 0.9955 - val_loss: 0.2348 - val_acc: 0.9550\n"
          ],
          "name": "stdout"
        }
      ]
    },
    {
      "metadata": {
        "id": "wh3YWQ5UWcP_",
        "colab_type": "code",
        "colab": {
          "base_uri": "https://localhost:8080/",
          "height": 707
        },
        "outputId": "bfadedf0-45ce-4b3f-dba8-a2eeb956ccf2"
      },
      "cell_type": "code",
      "source": [
        "# Plot the curves to observe the results\n",
        "acc = history.history['acc']\n",
        "val_acc = history.history['val_acc']\n",
        "loss = history.history['loss']\n",
        "val_loss = history.history['val_loss']\n",
        "\n",
        "epochs = range(1, len(acc) + 1)\n",
        "def smooth_curve(points, factor=0.8):\n",
        "  smoothed_points = []\n",
        "  for point in points:\n",
        "    if smoothed_points:\n",
        "      previous = smoothed_points[-1]\n",
        "      smoothed_points.append(previous * factor + point * (1 - factor))\n",
        "    else:\n",
        "      smoothed_points.append(point)\n",
        "  return smoothed_points\n",
        "\n",
        "plt.plot(epochs,\n",
        "         smooth_curve(acc), 'bo', label='Smoothed training acc')\n",
        "plt.plot(epochs,\n",
        "         smooth_curve(val_acc), 'b', label='Smoothed validation acc')\n",
        "plt.title('Training and validation accuracy')\n",
        "plt.legend()\n",
        "\n",
        "plt.figure()\n",
        "\n",
        "plt.plot(epochs,\n",
        "         smooth_curve(loss), 'bo', label='Smoothed training loss')\n",
        "plt.plot(epochs,\n",
        "         smooth_curve(val_loss), 'b', label='Smoothed validation loss')\n",
        "plt.title('Training and validation loss')\n",
        "plt.legend()\n",
        "\n",
        "plt.show()"
      ],
      "execution_count": 25,
      "outputs": [
        {
          "output_type": "display_data",
          "data": {
            "image/png": "[encoded data removed]",
            "text/plain": [
              "<Figure size 576x396 with 1 Axes>"
            ]
          },
          "metadata": {
            "tags": []
          }
        },
        {
          "output_type": "display_data",
          "data": {
            "image/png": "[encoded data removed]",
            "text/plain": [
              "<Figure size 576x396 with 1 Axes>"
            ]
          },
          "metadata": {
            "tags": []
          }
        }
      ]
    },
    {
      "metadata": {
        "id": "wzum_309hXfm",
        "colab_type": "code",
        "colab": {
          "base_uri": "https://localhost:8080/",
          "height": 34
        },
        "outputId": "69533e09-5e6a-437c-ef2c-95bd682c179d"
      },
      "cell_type": "code",
      "source": [
        "# make prediction on unseen data now - test data\n",
        "\n",
        "test_generator = test_datagen.flow_from_directory(\n",
        "        test_dir,\n",
        "        target_size=(150, 150),\n",
        "        batch_size=32,\n",
        "        class_mode='binary')\n",
        "prediction = model.evaluate_generator(test_generator, steps=50)"
      ],
      "execution_count": 24,
      "outputs": [
        {
          "output_type": "stream",
          "text": [
            "Found 1000 images belonging to 2 classes.\n"
          ],
          "name": "stdout"
        }
      ]
    },
    {
      "metadata": {
        "id": "Ec_2ELKAhobd",
        "colab_type": "code",
        "colab": {
          "base_uri": "https://localhost:8080/",
          "height": 34
        },
        "outputId": "69fb6e57-7906-46df-c75b-3fecfd772f19"
      },
      "cell_type": "code",
      "source": [
        "# metrics on the test data\n",
        "prediction"
      ],
      "execution_count": 26,
      "outputs": [
        {
          "output_type": "execute_result",
          "data": {
            "text/plain": [
              "[0.33204299355566036, 0.9441624365482234]"
            ]
          },
          "metadata": {
            "tags": []
          },
          "execution_count": 26
        }
      ]
    },
    {
      "metadata": {
        "id": "1fDSyIMiiAst",
        "colab_type": "code",
        "colab": {}
      },
      "cell_type": "code",
      "source": [
        ""
      ],
      "execution_count": 0,
      "outputs": []
    }
  ]
}